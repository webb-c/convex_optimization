{
 "cells": [
  {
   "cell_type": "markdown",
   "metadata": {},
   "source": [
    "### Example optimization problem:\n",
    "\n",
    "$$\n",
    "\\begin{aligned}\n",
    "& \\min _x\\left(x_1-3 x_2\\right)^2: \\\\\n",
    "& x_1-x_2 \\leq 3 \\quad x_1+x_2=10\n",
    "\\end{aligned}\n",
    "$$"
   ]
  },
  {
   "cell_type": "code",
   "execution_count": 1,
   "metadata": {},
   "outputs": [
    {
     "name": "stdout",
     "output_type": "stream",
     "text": [
      "minimize power(var1 + -3.0 @ var2, 2.0)\n",
      "subject to var1 + -var2 <= 3.0\n",
      "           var1 + var2 == 10.0 \n",
      "\n",
      "status:  optimal\n",
      "optimal value 16.0\n",
      "optimal var 6.5 3.5\n"
     ]
    }
   ],
   "source": [
    "import cvxpy as cp\n",
    "\n",
    "# optimization variable\n",
    "x1 = cp.Variable()      # (): scalar, (d): d-dimensional vector, (d1, d2): d1xd2 matrix\n",
    "x2 = cp.Variable()\n",
    "\n",
    "# constraints: List[]\n",
    "constraints = [x1-x2<=3, x1+x2==10]\n",
    "\n",
    "# objective function \n",
    "objective = cp.Minimize((x1-3*x2)**2)\n",
    "\n",
    "# define optimization problem\n",
    "prob = cp.Problem(objective, constraints)\n",
    "prob.solve()\n",
    "\n",
    "print(prob, \"\\n\")\n",
    "\n",
    "print(\"status: \", prob.status)\n",
    "print(\"optimal value\", prob.value)\n",
    "print(\"optimal var\", x1.value, x2.value)"
   ]
  },
  {
   "cell_type": "code",
   "execution_count": null,
   "metadata": {},
   "outputs": [],
   "source": []
  }
 ],
 "metadata": {
  "kernelspec": {
   "display_name": "convex_optimization",
   "language": "python",
   "name": "python3"
  },
  "language_info": {
   "codemirror_mode": {
    "name": "ipython",
    "version": 3
   },
   "file_extension": ".py",
   "mimetype": "text/x-python",
   "name": "python",
   "nbconvert_exporter": "python",
   "pygments_lexer": "ipython3",
   "version": "3.12.9"
  }
 },
 "nbformat": 4,
 "nbformat_minor": 2
}
