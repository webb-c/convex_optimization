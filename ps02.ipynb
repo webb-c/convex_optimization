{
 "cells": [
  {
   "cell_type": "markdown",
   "metadata": {},
   "source": [
    "### 3. Algorithm for concave function ✔︎"
   ]
  },
  {
   "cell_type": "code",
   "execution_count": 15,
   "metadata": {},
   "outputs": [
    {
     "data": {
      "image/png": "[encoded data removed]",
      "text/plain": [
       "<Figure size 600x600 with 1 Axes>"
      ]
     },
     "metadata": {},
     "output_type": "display_data"
    },
    {
     "name": "stdout",
     "output_type": "stream",
     "text": [
      "4.0\n"
     ]
    }
   ],
   "source": [
    "import matplotlib.pyplot as plt\n",
    "\n",
    "ITER=5\n",
    "x0=5\n",
    "\n",
    "def obj(x): # objective function\n",
    "    return 4*x - x**2\n",
    "\n",
    "# gradient of objective function\n",
    "def grad(x):\n",
    "    return 4 - 2*x\n",
    "\n",
    "# learning rate\n",
    "def alpha(t):\n",
    "    return 1/(2**t)\n",
    "\n",
    "x=[x0]          # x(0)=5\n",
    "fx = [obj(x0)]  # objective function\n",
    "\n",
    "for t in range(ITER):\n",
    "    # gradient descent\n",
    "    x.append(x[t] + alpha(t)*grad(x[t]))\n",
    "    # objective function at x(t)\n",
    "    fx.append(obj(x[t+1]))\n",
    "    \n",
    "plt.figure(figsize=(4,4), dpi=150)\n",
    "plt.plot(range(ITER+1),fx, 'o-')\n",
    "plt.xlabel('t')\n",
    "plt.ylabel('Objective function at x(t)')\n",
    "plt.show()\n",
    "\n",
    "print(max(fx))"
   ]
  },
  {
   "cell_type": "markdown",
   "metadata": {},
   "source": [
    "### 4. 1st-order Wasserstein distance ?\n",
    "\n",
    "Let $X \\in \\mathcal{X}:=\\{-2,0,2\\}$ be a discrete random variable with probability distribution: $\\mathbb{P}_X(x)=\\frac{1}{4}, \\frac{1}{2}, \\frac{1}{4}$ for $x=-2,0,2$, respectively. Let $Y \\in \\mathcal{Y}:=\\{-4,-1,1,4\\}$ be another discrete random variable with: $\\mathbb{P}_Y(y)=\\frac{3}{8}, \\frac{1}{8}, \\frac{1}{8}, \\frac{3}{8}$ for $y=-4,-1,1,4$, respectively. Consider Monge's problem which can be formulated as follows. Given $\\mathbb{P}_X$ and $\\mathbb{P}_Y$,\n",
    "\n",
    "$$\n",
    "W\\left(\\mathbb{P}_X, \\mathbb{P}_Y\\right):=\\min _{\\mathbb{P}_{X, Y}} \\mathbb{E}[\\|X-Y\\|]\n",
    "$$\n",
    "\n",
    "where the minimization is over all joint distributions $\\mathbb{P}_{X, Y}$ respecting the marginals $\\mathbb{P}_X$ and $\\mathbb{P}_Y$ :\n",
    "\n",
    "$$\n",
    "\\begin{array}{ll}\n",
    "\\sum_{y \\in \\mathcal{Y}} \\mathbb{P}_{X, Y}(x, y)=\\mathbb{P}_X(x) & \\forall x \\in \\mathcal{X} \\\\\n",
    "\\sum_{x \\in \\mathcal{X}} \\mathbb{P}_{X, Y}(x, y)=\\mathbb{P}_Y(y) & \\forall y \\in \\mathcal{Y}\n",
    "\\end{array}\n",
    "$$\n",
    "\n",
    "\n",
    "(b) Solve the optimization problem using CVXPY.\n",
    "\n",
    "Hint: Given an optimization variable, say $z \\in \\mathbf{R}^d$, and $(w, A, b, C, e)$ that appear in the LP standard form, here is a sample script:\n",
    "\n",
    "```python\n",
    "\n",
    "import cvxpy as cp\n",
    "import numpy as np\n",
    "\n",
    "z = cp.Variable(d)\n",
    "objective = cp.Minimize(np.transpose(w) @ z)\n",
    "constraints = [A@z-b <= 0, C@z-e == 0]\n",
    "prob = cp.Problem(objective, constraints)\n",
    "prob.solve()\n",
    "\n",
    "print(\"status: \", prob.status)\n",
    "print(\"Optimal value: \", prob.value)\n",
    "print(\"Optimal var: \", z.value)\n",
    "\n",
    "```\n"
   ]
  },
  {
   "cell_type": "code",
   "execution_count": 13,
   "metadata": {},
   "outputs": [
    {
     "name": "stdout",
     "output_type": "stream",
     "text": [
      "status:  optimal\n",
      "Optimal value:  2.2499999959404455\n",
      "Optimal var:  [ 2.50000001e-01 -2.58787194e-10 -1.15711411e-10 -2.62340957e-10\n",
      "  1.25000000e-01  1.25000000e-01  1.25000000e-01  1.25000000e-01\n",
      " -2.62340957e-10 -1.15711411e-10 -2.58787194e-10  2.50000001e-01]\n"
     ]
    }
   ],
   "source": [
    "import cvxpy as cp\n",
    "import numpy as np\n",
    "\n",
    "# Define the number of decision variables (12 variables for joint probabilities)\n",
    "d = 12\n",
    "\n",
    "# Create the decision variable z (joint probabilities P(x, y))\n",
    "z = cp.Variable(d)\n",
    "\n",
    "# Cost vector w (distance values from the cost matrix)\n",
    "w = np.array([2, 1, 3, 6, 4, 1, 1, 4, 6, 3, 1, 2])\n",
    "\n",
    "# Constraint matrix C (marginal constraints)\n",
    "C = np.array([\n",
    "    [1, 1, 1, 1, 0, 0, 0, 0, 0, 0, 0, 0],   # x = -2\n",
    "    [0, 0, 0, 0, 1, 1, 1, 1, 0, 0, 0, 0],   # x = 0\n",
    "    [0, 0, 0, 0, 0, 0, 0, 0, 1, 1, 1, 1],   # x = 2\n",
    "    [1, 0, 0, 0, 1, 0, 0, 0, 1, 0, 0, 0],   # y = -4\n",
    "    [0, 1, 0, 0, 0, 1, 0, 0, 0, 1, 0, 0],   # y = -1\n",
    "    [0, 0, 1, 0, 0, 0, 1, 0, 0, 0, 1, 0],   # y = 1\n",
    "    [0, 0, 0, 1, 0, 0, 0, 1, 0, 0, 0, 1]    # y = 4\n",
    "])\n",
    "\n",
    "# Right-hand side of the constraints (marginal probabilities for X and Y)\n",
    "e = np.array([1/4, 1/2, 1/4, 3/8, 1/8, 1/8, 3/8])\n",
    "\n",
    "# Objective function to minimize (w^T * z)\n",
    "objective = cp.Minimize(w.T @ z)\n",
    "\n",
    "# Constraints: C @ z = e (marginal constraints)\n",
    "constraints = [C @ z == e, z >= 0]\n",
    "\n",
    "# Define and solve the problem\n",
    "prob = cp.Problem(objective, constraints)\n",
    "prob.solve()\n",
    "\n",
    "# Output results\n",
    "print(\"status: \", prob.status)\n",
    "print(\"Optimal value: \", prob.value)\n",
    "print(\"Optimal var: \", z.value)"
   ]
  },
  {
   "cell_type": "code",
   "execution_count": 16,
   "metadata": {},
   "outputs": [
    {
     "name": "stdout",
     "output_type": "stream",
     "text": [
      "Status: optimal\n",
      "Optimal value (Wasserstein distance): 2.2500000003003793\n",
      "Optimal transport plan (P):\n",
      " [[0.25  0.    0.    0.   ]\n",
      " [0.125 0.125 0.125 0.125]\n",
      " [0.    0.    0.    0.25 ]]\n"
     ]
    }
   ],
   "source": [
    "import cvxpy as cp\n",
    "import numpy as np\n",
    "\n",
    "# Cost matrix C\n",
    "C = np.array([[2, 1, 3, 6], \n",
    "              [4, 1, 1, 4], \n",
    "              [6, 3, 1, 2]])\n",
    "\n",
    "# Probability distributions\n",
    "P_X = np.array([0.25, 0.5, 0.25])  # Marginal for X\n",
    "P_Y = np.array([0.375, 0.125, 0.125, 0.375])  # Marginal for Y\n",
    "\n",
    "# Create a variable for the joint distribution\n",
    "P = cp.Variable((3, 4), nonneg=True)\n",
    "\n",
    "# Objective function: minimize sum of C * P\n",
    "objective = cp.Minimize(cp.sum(cp.multiply(C, P)))\n",
    "row_constraints = [cp.sum(P[i, :]) == P_X[i] for i in range(3)]\n",
    "col_constraints = [cp.sum(P[:, j]) == P_Y[j] for j in range(4)]\n",
    "\n",
    "constraints = row_constraints + col_constraints\n",
    "\n",
    "prob = cp.Problem(objective, constraints)\n",
    "prob.solve()\n",
    "\n",
    "print(\"Status:\", prob.status)\n",
    "print(\"Optimal value (Wasserstein distance):\", prob.value)\n",
    "print(\"Optimal transport plan (P):\\n\", P.value)"
   ]
  },
  {
   "cell_type": "markdown",
   "metadata": {},
   "source": [
    "### 5. Linear classification\n",
    "\n",
    "Consider the linear classification problem wherein the goal is to find a boundary of the line form that can distinguish legitimate emails from spams. We are given $\\left\\{\\left(x^{(i)}, y^{(i)}\\right)\\right\\}_{i=1}^m$ training dataset (given in the file \"train.csv\" uploaded on the course website). Here $x^{(i)}:=\\left(x_1^{(i)}, x_2^{(i)}\\right)$ indicates a feature vector of the $i$ th example and $y^{(i)}$ denotes its corresponding label (legitimate $=+1$; spam $=-1$ ).\n",
    "\n",
    "\n",
    "(a) What are $m$ and dimension of $x^{(i)}$ ? ✔︎\n",
    "\n",
    "Hint: You may want to use the following script:\n",
    "```python \n",
    "\n",
    "import pandas as pd\n",
    "\n",
    "data = pd.read_csv(’train.csv’)\n",
    "X = data[['X1', 'X2']].values\n",
    "y = data['Y'].values\n",
    "m,n = X.shape\n",
    "print(m,n)\n",
    "\n",
    "```\n",
    "\n",
    "(b) Use a Python code below to visualize the data points in the two-dimensional space. ✔︎\n",
    "\n",
    "```python \n",
    "import matplotlib.pyplot as plt\n",
    "\n",
    "X_y1 = X[y==+1] # legitimate\n",
    "X_y0 = X[y==-1] # spam\n",
    "\n",
    "plt.figure(figsize=(4,4), dpi=150)\n",
    "\n",
    "plt.scatter(X_y1[:,0],X_y1[:,1],\n",
    "            c=’blue’, label = ’legitimate’, marker=’o’)\n",
    "plt.scatter(X_y0[:,0],X_y0[:,1],\n",
    "            c=’red’, label = ’spam’, marker=’o’)\n",
    "plt.xlabel('x1')\n",
    "plt.ylabel('x2')\n",
    "plt.legend()\n",
    "plt.title('Visualization of data points')\n",
    "plt.show()\n",
    "```\n",
    "\n",
    "(c) In class, we formulated a margin-based linear classifier as: ✔︎\n",
    "\n",
    "$$\n",
    "\\begin{aligned}\n",
    "& \\min _{a, b, v^{(i)}} \\sum_{i=1}^m v(i): \\\\\n",
    "& \\quad y^{(i)}\\left(a^T x^{(i)}-b\\right)+v^{(i)} \\geq 1, \\quad i \\in\\{1, \\ldots, m\\} \\\\\n",
    "& \\quad v^{(i)} \\geq 0\n",
    "\\end{aligned}\n",
    "$$\n",
    "\n",
    "Using a code below, print out the optimal solution.\n",
    "\n",
    "```python \n",
    "import cvxpy as cp\n",
    "\n",
    "a = cp.Variable(n)\n",
    "b = cp.Variable()\n",
    "v = cp.Variable(m)\n",
    "\n",
    "# constraints and the objective function\n",
    "constraints = [y[i]*(X[i,:]@a-b) + v[i]>=1 for i in range(m)] + [v>=0]\n",
    "objective = cp.Minimize(cp.sum(v))\n",
    "\n",
    "prob = cp.Problem(objective, constraints)\n",
    "prob.solve()\n",
    "\n",
    "print('status: ', prob.status)\n",
    "print('optimal_value: ', prob.value)\n",
    "print('optimal_var: ')\n",
    "\n",
    "print('a*: ',a.value)\n",
    "print('b*: ',b.value)\n",
    "print('v*: ',v.value)\n",
    "\n",
    "```"
   ]
  },
  {
   "cell_type": "code",
   "execution_count": 3,
   "metadata": {},
   "outputs": [
    {
     "name": "stdout",
     "output_type": "stream",
     "text": [
      "100 2\n"
     ]
    }
   ],
   "source": [
    "import pandas as pd\n",
    "\n",
    "data = pd.read_csv('data/train.csv')\n",
    "X = data[['X1', 'X2']].values\n",
    "y = data['Y'].values\n",
    "m,n = X.shape\n",
    "print(m,n)"
   ]
  },
  {
   "cell_type": "code",
   "execution_count": 4,
   "metadata": {},
   "outputs": [
    {
     "data": {
      "image/png": "[encoded data removed]",
      "text/plain": [
       "<Figure size 600x600 with 1 Axes>"
      ]
     },
     "metadata": {},
     "output_type": "display_data"
    }
   ],
   "source": [
    "import matplotlib.pyplot as plt\n",
    "\n",
    "X_y1 = X[y==+1] # legitimate\n",
    "X_y0 = X[y==-1] # spam\n",
    "\n",
    "plt.figure(figsize=(4,4), dpi=150)\n",
    "\n",
    "plt.scatter(X_y1[:,0],X_y1[:,1],\n",
    "            c='blue', label = 'legitimate', marker='o')\n",
    "plt.scatter(X_y0[:,0],X_y0[:,1],\n",
    "            c='red', label = 'spam', marker='o')\n",
    "plt.xlabel('x1')\n",
    "plt.ylabel('x2')\n",
    "plt.legend()\n",
    "plt.title('Visualization of data points')\n",
    "plt.show()"
   ]
  },
  {
   "cell_type": "code",
   "execution_count": 5,
   "metadata": {},
   "outputs": [
    {
     "name": "stdout",
     "output_type": "stream",
     "text": [
      "status:  optimal\n",
      "optimal_value:  41.54029976997905\n",
      "optimal_var: \n",
      "a*:  [-8.2837833   6.82321339]\n",
      "b*:  -0.7073957937560789\n",
      "v*:  [ 1.41543565e-11  8.81023997e-12 -2.26574547e-11  4.08315444e-12\n",
      " -9.12597570e-12 -3.39042997e-11  2.06243550e+00 -7.85937955e-12\n",
      "  1.84170000e-11  1.04197303e+00  1.93654384e+00 -1.38437517e-12\n",
      "  1.78559567e-11  5.78969044e-12  2.37423536e-11  1.43404557e-11\n",
      "  2.82605184e-01  6.33878867e-12  7.23157864e-01 -1.29569827e-11\n",
      "  1.04358755e-11  9.73673455e-01  6.75634803e-12  1.49794022e-11\n",
      "  7.98618983e-12  1.46122616e+00  7.69977285e-12  2.15709326e+00\n",
      "  1.61461408e-11  3.28065375e-01  9.68161739e-12  1.16498401e+00\n",
      "  1.08795329e-11  1.63573164e-11  7.39197002e-02  1.66942660e+00\n",
      "  1.42750349e+00  1.31313847e-11  2.54186549e-01  1.42950570e+00\n",
      "  4.62450701e-01  6.52752093e-12 -1.32319901e-11  3.94301036e-02\n",
      "  7.92374619e-12  1.19317718e+00  8.94556436e-10  9.01716876e-01\n",
      " -1.70439157e-11  4.32482335e-01  1.50868619e-11  7.39255112e-12\n",
      "  1.49007878e-11  1.01576938e-11  1.22340300e-11  6.90980964e-12\n",
      "  1.75324864e+00  2.29177567e-01  1.41915475e-11  9.90876482e-12\n",
      " -5.06711143e-12  5.30766649e-01  1.07565506e-11  5.20331910e-12\n",
      " -5.47795079e-12  4.35777076e-12  4.38148733e-10  7.95318657e-01\n",
      "  1.47917304e-11  8.75194766e-12  1.74073664e+00  6.76863869e-01\n",
      "  2.73589837e-01  9.21356533e-12  1.48060345e-01  3.10125175e-11\n",
      "  6.77075719e-01  1.22050963e-11  2.90280867e+00  9.44934792e-01\n",
      "  1.57241436e+00  6.49544508e-01  9.48768040e-13  7.44551481e-12\n",
      "  1.56816291e-11  2.37154315e+00  8.20615225e-02  2.84679946e-01\n",
      "  1.34977089e-12  4.28165143e-12  1.30043345e+00  7.34166948e-12\n",
      "  1.17520637e+00  1.24306509e+00  1.17017780e-11  1.55194814e-11\n",
      "  2.17321307e+00  1.45038474e-11  3.70814141e-12  4.55886397e-12]\n"
     ]
    }
   ],
   "source": [
    "import cvxpy as cp\n",
    "\n",
    "a = cp.Variable(n)\n",
    "b = cp.Variable()\n",
    "v = cp.Variable(m)\n",
    "\n",
    "# constraints and the objective function\n",
    "constraints = [y[i]*(X[i,:]@a-b) + v[i]>=1 for i in range(m)] + [v>=0]\n",
    "objective = cp.Minimize(cp.sum(v))\n",
    "\n",
    "prob = cp.Problem(objective, constraints)\n",
    "prob.solve()\n",
    "\n",
    "print('status: ', prob.status)\n",
    "print('optimal_value: ', prob.value)\n",
    "print('optimal_var: ')\n",
    "\n",
    "print('a*: ',a.value)\n",
    "print('b*: ',b.value)\n",
    "print('v*: ',v.value)"
   ]
  },
  {
   "cell_type": "markdown",
   "metadata": {},
   "source": [
    "### 7. Margin-based linear classifier vs. Least-Squares classifier \n",
    "\n",
    "Consider the legitimate-vs-spam email classification. We are given $\\{(x^{(i)}, y^{(i)})\\}^m_{i=1}$ training dataset (the same \"train.csv\" in Prob 5). In this problem, you will build up two classifiers: (i) the margin-based linear classifier; and (ii) the Least-Squares classifier (with a bias term). You will also compare the test error performances with test dataset $\\{(x^{(i)}_{\\text{test}}, y^{(i)}_{\\text{test}})\\}^{m_{\\text{test}}}_{i=1}$ (given in \"test.csv\" uploaded). You need the write a script for Python implementation.\n",
    "\n",
    "(b) Given the trained model $(a^*, b^*)$ in part (a), the margin-based linear classifier outputs: ✔︎\n",
    "\n",
    "$$ y_{\\text {test }}^{(i)}=\\operatorname{sign}\\left(a^{* T} x_{\\text {test }}^{(i)}-b^*\\right)$$\n",
    "\n",
    "Using a Python code below, compute the test error of the margin-based linear classifier:\n",
    "\n",
    "```python \n",
    "import pandas as pd\n",
    "import numpy as np\n",
    "\n",
    "test = pd.read_csv('test.csv')\n",
    "Xtest = test[['X1', 'X2']].values\n",
    "ytest = test['Y'].values\n",
    "m_test, n = Xtest.shape\n",
    "\n",
    "error_LP=np.sign(Xtest@a.value - b.value) != ytest\n",
    "print(\"Test error of the MB linear classifier: \",\n",
    "        sum(error_LP)/m_test)\n",
    "```\n",
    "\n",
    "(c) Formulate an optimization for the least-squares classifier. Using a Python code below, develop the LS classifier and print out $(w^*, c^*)$. ✔︎\n",
    "\n",
    "```python \n",
    "import pandas as pd\n",
    "import numpy as np\n",
    "from numpy.linalg import pinv\n",
    "\n",
    "data = pd.read_csv('train.csv')\n",
    "X = data[['X1', 'X2']].values\n",
    "y = data['Y'].values\n",
    "m,n = X.shape\n",
    "\n",
    "allone = np.ones((m,1))\n",
    "A = np.concatenate((X,allone),1)\n",
    "\n",
    "# closed form solution\n",
    "w_bar_star = np.dot(pinv(A),y)\n",
    "\n",
    "print('w*:', w_bar_star[0:2])\n",
    "print('c*:', w_bar_star[2])\n",
    "```\n",
    "\n",
    "(d) Double-check your answer in part (c) using the following CVXPY script: ✔︎\n",
    "\n",
    "```python \n",
    "import pandas as pd\n",
    "import cvxpy as cp\n",
    "import numpy as np\n",
    "\n",
    "data = pd.read_csv('train.csv')\n",
    "X = data[['X1', 'X2']].values\n",
    "y = data['Y'].values\n",
    "m,n = X.shape\n",
    "\n",
    "w = cp.Variable(n)\n",
    "c = cp.Variable()\n",
    "\n",
    "# constraints and the objective function\n",
    "objective = cp.Minimize( cp.sum((X@w+c -y)**2) )\n",
    "prob = cp.Problem(objective)\n",
    "prob.solve()\n",
    "\n",
    "print('status: ', prob.status)\n",
    "print('optimal value: ', prob.value)\n",
    "print('optimal var: ')\n",
    "print('w*: ',w.value)\n",
    "print('c*: ',c.value)\n",
    "```\n",
    "\n",
    "(e) Given the trained model $\\left(w^*, c^*\\right)$ in part $(c)$, the LS classifier outputs: ✔︎\n",
    "$$\n",
    "y_{\\text {test }}^{(i)}=\\operatorname{sign}\\left(w^{* T} x_{\\text {test }}^{(i)}+c^*\\right)\n",
    "$$\n",
    "Using a Python code, compute the test error of the LS classifier. Which classifier is better between the LS classifier and the margin-based linear classifier?"
   ]
  },
  {
   "cell_type": "code",
   "execution_count": 11,
   "metadata": {},
   "outputs": [
    {
     "name": "stdout",
     "output_type": "stream",
     "text": [
      "Test error of the MB linear classifier:  0.3\n"
     ]
    }
   ],
   "source": [
    "import pandas as pd\n",
    "import numpy as np\n",
    "\n",
    "test = pd.read_csv('data/test.csv')\n",
    "Xtest = test[['X1', 'X2']].values\n",
    "ytest = test['Y'].values\n",
    "m_test, n = Xtest.shape\n",
    "\n",
    "error_LP=np.sign(Xtest@a.value - b.value) != ytest\n",
    "print(\"Test error of the MB linear classifier: \",\n",
    "        sum(error_LP)/m_test)"
   ]
  },
  {
   "cell_type": "code",
   "execution_count": 8,
   "metadata": {},
   "outputs": [
    {
     "name": "stdout",
     "output_type": "stream",
     "text": [
      "w*: [-2.78936974  2.47860887]\n",
      "c*: 0.08502008955833901\n"
     ]
    }
   ],
   "source": [
    "import pandas as pd\n",
    "import numpy as np\n",
    "from numpy.linalg import pinv\n",
    "\n",
    "data = pd.read_csv('data/train.csv')\n",
    "X = data[['X1', 'X2']].values\n",
    "y = data['Y'].values\n",
    "m,n = X.shape\n",
    "\n",
    "allone = np.ones((m,1))\n",
    "A = np.concatenate((X,allone),1)\n",
    "\n",
    "# closed form solution\n",
    "w_bar_star = np.dot(pinv(A),y)\n",
    "\n",
    "print('w*:', w_bar_star[0:2])\n",
    "print('c*:', w_bar_star[2])"
   ]
  },
  {
   "cell_type": "code",
   "execution_count": 10,
   "metadata": {},
   "outputs": [
    {
     "name": "stdout",
     "output_type": "stream",
     "text": [
      "status:  optimal\n",
      "optimal value:  52.3986111459343\n",
      "optimal var: \n",
      "w*:  [-2.78936974  2.47860887]\n",
      "c*:  0.08502008955833724\n"
     ]
    }
   ],
   "source": [
    "import pandas as pd\n",
    "import cvxpy as cp\n",
    "import numpy as np\n",
    "\n",
    "data = pd.read_csv('data/train.csv')\n",
    "X = data[['X1', 'X2']].values\n",
    "y = data['Y'].values\n",
    "m,n = X.shape\n",
    "\n",
    "w = cp.Variable(n)\n",
    "c = cp.Variable()\n",
    "\n",
    "# constraints and the objective function\n",
    "objective = cp.Minimize( cp.sum((X@w+c -y)**2) )\n",
    "prob = cp.Problem(objective)\n",
    "prob.solve()\n",
    "\n",
    "print('status: ', prob.status)\n",
    "print('optimal value: ', prob.value)\n",
    "print('optimal var: ')\n",
    "print('w*: ',w.value)\n",
    "print('c*: ',c.value)"
   ]
  },
  {
   "cell_type": "code",
   "execution_count": 12,
   "metadata": {},
   "outputs": [
    {
     "name": "stdout",
     "output_type": "stream",
     "text": [
      "Test error of the LS linear classifier:  0.2\n"
     ]
    }
   ],
   "source": [
    "import pandas as pd\n",
    "import numpy as np\n",
    "\n",
    "test = pd.read_csv('data/test.csv')\n",
    "Xtest = test[['X1', 'X2']].values\n",
    "ytest = test['Y'].values\n",
    "m_test, n = Xtest.shape\n",
    "\n",
    "error_LS = np.sign(Xtest@w.value - c.value) != ytest\n",
    "print(\"Test error of the LS linear classifier: \",\n",
    "        sum(error_LS)/m_test)"
   ]
  }
 ],
 "metadata": {
  "kernelspec": {
   "display_name": "convex_optimization",
   "language": "python",
   "name": "python3"
  },
  "language_info": {
   "codemirror_mode": {
    "name": "ipython",
    "version": 3
   },
   "file_extension": ".py",
   "mimetype": "text/x-python",
   "name": "python",
   "nbconvert_exporter": "python",
   "pygments_lexer": "ipython3",
   "version": "3.12.9"
  }
 },
 "nbformat": 4,
 "nbformat_minor": 2
}
